{
 "cells": [
  {
   "cell_type": "code",
   "execution_count": 4,
   "metadata": {},
   "outputs": [],
   "source": [
    "import os\n",
    "import csv\n",
    "from datetime import datetime  # Import the datetime module\n",
    "\n",
    "# Path to collect data from the Resources folder\n",
    "election_csv = os.path.join('Resources', 'election_data.csv')"
   ]
  },
  {
   "cell_type": "code",
   "execution_count": 6,
   "metadata": {},
   "outputs": [
    {
     "name": "stdout",
     "output_type": "stream",
     "text": [
      "Election Results\n",
      "-------------------------\n",
      "Total Votes: 369711\n",
      "-------------------------\n",
      "Charles Casper Stockham: 23.049% (85213)\n",
      "Diana DeGette: 73.812% (272892)\n",
      "Raymon Anthony Doane: 3.139% (11606)\n",
      "-------------------------\n",
      "Winner: Diana DeGette\n",
      "-------------------------\n",
      "Results have been exported to Analysis\\election_results.txt\n"
     ]
    }
   ],
   "source": [
    "# Initialize variables\n",
    "total_votes = 0\n",
    "candidates = {}\n",
    "\n",
    "# Read the dataset from the CSV file\n",
    "with open(election_csv) as file:\n",
    "    csv_reader = csv.DictReader(file)\n",
    "    \n",
    "    for row in csv_reader:\n",
    "        # Increment the total vote count\n",
    "        total_votes += 1\n",
    "        \n",
    "        # Get the candidate name from the current row\n",
    "        candidate_name = row['Candidate']\n",
    "        \n",
    "        # If candidate is not in the dictionary, add them\n",
    "        if candidate_name not in candidates:\n",
    "            candidates[candidate_name] = 0\n",
    "        \n",
    "        # Increment the vote count for the candidate\n",
    "        candidates[candidate_name] += 1\n",
    "\n",
    "# Determine the winner based on the popular vote\n",
    "winner = max(candidates, key=candidates.get)\n",
    "\n",
    "# Print and save the results\n",
    "output = []\n",
    "output.append(\"Election Results\")\n",
    "output.append(\"-------------------------\")\n",
    "output.append(f\"Total Votes: {total_votes}\")\n",
    "output.append(\"-------------------------\")\n",
    "for candidate, votes in candidates.items():\n",
    "    percentage = (votes / total_votes) * 100\n",
    "    output.append(f\"{candidate}: {percentage:.3f}% ({votes})\")\n",
    "output.append(\"-------------------------\")\n",
    "output.append(f\"Winner: {winner}\")\n",
    "output.append(\"-------------------------\")\n",
    "\n",
    "# Print the output to the terminal\n",
    "for line in output:\n",
    "    print(line)\n",
    "\n",
    "# Export the results to a text file\n",
    "output_txt = os.path.join('Analysis', 'election_results.txt')\n",
    "with open(output_txt, 'w') as file:\n",
    "    for line in output:\n",
    "        file.write(line + \"\\n\")\n",
    "\n",
    "print(f\"Results have been exported to {output_txt}\")\n"
   ]
  }
 ],
 "metadata": {
  "kernelspec": {
   "display_name": "Python 3",
   "language": "python",
   "name": "python3"
  },
  "language_info": {
   "codemirror_mode": {
    "name": "ipython",
    "version": 3
   },
   "file_extension": ".py",
   "mimetype": "text/x-python",
   "name": "python",
   "nbconvert_exporter": "python",
   "pygments_lexer": "ipython3",
   "version": "3.10.11"
  }
 },
 "nbformat": 4,
 "nbformat_minor": 2
}
